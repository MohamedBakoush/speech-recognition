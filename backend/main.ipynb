{
 "cells": [
  {
   "cell_type": "markdown",
   "metadata": {},
   "source": [
    "<p style=\"text-align: center;\">\n",
    "    openai / whisper - Speech Recognition \n",
    "</p> \n",
    "<p style=\"text-align: center;\"> \n",
    "    Added Support : webVTT, SRTT  \n",
    "</p> "
   ]
  },
  {
   "cell_type": "code",
   "execution_count": 123,
   "metadata": {},
   "outputs": [],
   "source": [
    "import os\n",
    "import whisper\n",
    "import time"
   ]
  },
  {
   "cell_type": "code",
   "execution_count": 124,
   "metadata": {},
   "outputs": [],
   "source": [
    "def transcribe(model_name: str, audio_path: str):\n",
    "    model = whisper.load_model(model_name)\n",
    "    result = model.transcribe(audio_path)\n",
    "    transcription = result[\"segments\"]\n",
    "    return transcription"
   ]
  },
  {
   "cell_type": "code",
   "execution_count": 125,
   "metadata": {},
   "outputs": [],
   "source": [
    "def first_three_decimal_places(time: float): \n",
    "    float_to_fixed_3_decimal_places = str(\"%.3f\" %  time) \n",
    "    removed_int = float_to_fixed_3_decimal_places[float_to_fixed_3_decimal_places.find('.'):]\n",
    "    removed_decimal_point = removed_int[1:]  \n",
    "    return removed_decimal_point"
   ]
  },
  {
   "cell_type": "code",
   "execution_count": 126,
   "metadata": {},
   "outputs": [],
   "source": [
    "def transcription(each_transcription):\n",
    "    output = {}\n",
    "    output[\"id\"] = int(each_transcription[\"id\"])\n",
    "    output[\"start_time\"] = time.strftime('%H:%M:%S', time.gmtime(each_transcription[\"start\"]))  \n",
    "    output[\"start_time_decimal\"] = first_three_decimal_places(each_transcription[\"start\"])\n",
    "    output[\"end_time\"] = time.strftime('%H:%M:%S', time.gmtime(each_transcription[\"end\"])) \n",
    "    output[\"end_time_decimal\"] = first_three_decimal_places(each_transcription[\"end\"])\n",
    "    output[\"text\"] = each_transcription[\"text\"].lstrip(\" \")  \n",
    "    return output"
   ]
  },
  {
   "cell_type": "code",
   "execution_count": 127,
   "metadata": {},
   "outputs": [],
   "source": [
    "def checkIfFileExists(fileName: str, fileFormat: str):\n",
    "    if not os.path.exists(f\"{fileName}.{fileFormat}\"):\n",
    "        with open(f\"{fileName}.{fileFormat}\", 'w'): pass"
   ]
  },
  {
   "cell_type": "code",
   "execution_count": 128,
   "metadata": {},
   "outputs": [],
   "source": [
    "def webVTT(webVTT_Name: str, whole_transcription: list): \n",
    "    checkIfFileExists(webVTT_Name, \"vtt\")\n",
    "    with open(f\"{webVTT_Name}.vtt\", 'w') as f:\n",
    "        f.write(\"WEBVTT\")\n",
    "        for x in range(len(whole_transcription)):\n",
    "            each_transcription = transcription(whole_transcription[x])\n",
    "            start_time = each_transcription[\"start_time\"]\n",
    "            start_time_decimal = each_transcription[\"start_time_decimal\"]\n",
    "            end_time = each_transcription[\"end_time\"]\n",
    "            end_time_decimal = each_transcription[\"end_time_decimal\"]\n",
    "            text = each_transcription[\"text\"]      \n",
    "            f.write(\"\\n\\n\")\n",
    "            f.write(f\"{start_time}.{start_time_decimal} --> {end_time}.{end_time_decimal}\")\n",
    "            f.write(\"\\n\")\n",
    "            f.write(f\"{text}\")\n",
    "    return os.path.abspath(f\"{webVTT_Name}.vtt\")"
   ]
  },
  {
   "cell_type": "code",
   "execution_count": 129,
   "metadata": {},
   "outputs": [],
   "source": [
    "def SRT(SRT_Name: str, whole_transcription: list):\n",
    "    checkIfFileExists(SRT_Name, \"srt\")\n",
    "    with open(f\"{SRT_Name}.srt\", 'w') as f:\n",
    "        for x in range(len(whole_transcription)): \n",
    "            each_transcription = transcription(whole_transcription[x])\n",
    "            id = each_transcription[\"id\"]\n",
    "            start_time = each_transcription[\"start_time\"]\n",
    "            start_time_decimal = each_transcription[\"start_time_decimal\"]\n",
    "            end_time = each_transcription[\"end_time\"]\n",
    "            end_time_decimal = each_transcription[\"end_time_decimal\"]\n",
    "            text = each_transcription[\"text\"]  \n",
    "            f.write(f\"{id + 1}\")\n",
    "            f.write(\"\\n\")\n",
    "            f.write(f\"{start_time},{start_time_decimal} --> {end_time},{end_time_decimal}\")\n",
    "            f.write(\"\\n\")\n",
    "            f.write(f\"{text}\")  \n",
    "            if not x + 1 == len(whole_transcription):\n",
    "                f.write(\"\\n\\n\")\n",
    "    return os.path.abspath(f\"{SRT_Name}.srt\")\n"
   ]
  },
  {
   "cell_type": "markdown",
   "metadata": {},
   "source": [
    "Output"
   ]
  },
  {
   "cell_type": "code",
   "execution_count": 130,
   "metadata": {},
   "outputs": [],
   "source": [
    "def output(model_name: str, audio_path: str, SRT_bool: bool, webVTT_bool: bool):\n",
    "    if not os.path.exists(f\"{audio_path}\"):\n",
    "        return \"Invalid Audio Path\"\n",
    "    if SRT_bool & webVTT_bool == False: \n",
    "        return \"Select At Least One Subtitle Format\"\n",
    "        \n",
    "    whole_transcription = transcribe(model_name, audio_path)  \n",
    "    if SRT_bool & webVTT_bool == True: \n",
    "        return SRT(audio_path, whole_transcription), webVTT(audio_path, whole_transcription)\n",
    "    if SRT_bool == True: \n",
    "        return SRT(audio_path, whole_transcription)\n",
    "    if webVTT_bool == True:\n",
    "        return webVTT(audio_path, whole_transcription)"
   ]
  },
  {
   "cell_type": "code",
   "execution_count": null,
   "metadata": {},
   "outputs": [],
   "source": [
    "print(output(\"base\", \"tests_jfk.flac\", True, True))"
   ]
  }
 ],
 "metadata": {
  "kernelspec": {
   "display_name": "Python 3.9.12 ('base')",
   "language": "python",
   "name": "python3"
  },
  "language_info": {
   "codemirror_mode": {
    "name": "ipython",
    "version": 3
   },
   "file_extension": ".py",
   "mimetype": "text/x-python",
   "name": "python",
   "nbconvert_exporter": "python",
   "pygments_lexer": "ipython3",
   "version": "3.9.12"
  },
  "orig_nbformat": 4,
  "vscode": {
   "interpreter": {
    "hash": "987cc7c864ec75a1e1753ae7d73a53754540f570ac16212e0bb1c3ce21de6c85"
   }
  }
 },
 "nbformat": 4,
 "nbformat_minor": 2
}
