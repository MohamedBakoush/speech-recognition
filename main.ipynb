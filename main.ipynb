{
 "cells": [
  {
   "cell_type": "markdown",
   "metadata": {},
   "source": [
    "Todo: \n",
    "- Time format for VTT - mßissing millisec\n",
    "- Add SRT"
   ]
  },
  {
   "cell_type": "code",
   "execution_count": 1,
   "metadata": {},
   "outputs": [],
   "source": [
    "import os\n",
    "import whisper\n",
    "import time"
   ]
  },
  {
   "cell_type": "code",
   "execution_count": 2,
   "metadata": {},
   "outputs": [],
   "source": [
    "model_name = \"base\"\n",
    "audio_path = \"tests_jfk.flac\""
   ]
  },
  {
   "cell_type": "code",
   "execution_count": 3,
   "metadata": {},
   "outputs": [],
   "source": [
    "def transcribe(model_name: str, audio_path: str):\n",
    "    model = whisper.load_model(model_name)\n",
    "    result = model.transcribe(audio_path)\n",
    "    transcription = result[\"segments\"]\n",
    "    return transcription"
   ]
  },
  {
   "cell_type": "code",
   "execution_count": 4,
   "metadata": {},
   "outputs": [],
   "source": [
    "def checkIfFileExists(fileName, fileFormat):\n",
    "    if not os.path.exists(f\"{fileName}.{fileFormat}\"):\n",
    "        with open(f\"{fileName}.{fileFormat}\", 'w'): pass"
   ]
  },
  {
   "cell_type": "code",
   "execution_count": 5,
   "metadata": {},
   "outputs": [],
   "source": [
    "def webVTT(webVTT_Name, transcription): \n",
    "    checkIfFileExists(webVTT_Name, \"vtt\")\n",
    "    \n",
    "    with open(f\"{webVTT_Name}.vtt\", 'w') as f:\n",
    "        f.write(\"WEBVTT\")\n",
    "        for x in range(len(transcription)):\n",
    "            each_transcription = transcription[x] \n",
    "            id = each_transcription[\"id\"]\n",
    "            start_time = time.strftime('%H:%M:%S', time.gmtime(each_transcription[\"start\"]))\n",
    "            end_time = time.strftime('%H:%M:%S', time.gmtime(each_transcription[\"end\"])) \n",
    "            text = each_transcription[\"text\"].lstrip(\" \")       \n",
    "            f.write(\"\\n\\n\")\n",
    "            f.write(f\"{start_time} --> {end_time}\")\n",
    "            f.write(\"\\n\")\n",
    "            f.write(f\"{text}\")"
   ]
  },
  {
   "cell_type": "code",
   "execution_count": 6,
   "metadata": {},
   "outputs": [
    {
     "name": "stderr",
     "output_type": "stream",
     "text": [
      "/Users/mohamedbakoush/opt/anaconda3/lib/python3.9/site-packages/whisper/transcribe.py:78: UserWarning: FP16 is not supported on CPU; using FP32 instead\n",
      "  warnings.warn(\"FP16 is not supported on CPU; using FP32 instead\")\n"
     ]
    }
   ],
   "source": [
    "transcription = transcribe(model_name, audio_path)\n",
    "webVTT(audio_path, transcription)"
   ]
  }
 ],
 "metadata": {
  "kernelspec": {
   "display_name": "Python 3.9.12 ('base')",
   "language": "python",
   "name": "python3"
  },
  "language_info": {
   "codemirror_mode": {
    "name": "ipython",
    "version": 3
   },
   "file_extension": ".py",
   "mimetype": "text/x-python",
   "name": "python",
   "nbconvert_exporter": "python",
   "pygments_lexer": "ipython3",
   "version": "3.9.12"
  },
  "orig_nbformat": 4,
  "vscode": {
   "interpreter": {
    "hash": "987cc7c864ec75a1e1753ae7d73a53754540f570ac16212e0bb1c3ce21de6c85"
   }
  }
 },
 "nbformat": 4,
 "nbformat_minor": 2
}
